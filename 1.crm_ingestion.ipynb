{
 "cells": [
  {
   "cell_type": "code",
   "execution_count": 0,
   "metadata": {
    "application/vnd.databricks.v1+cell": {
     "cellMetadata": {
      "byteLimit": 2048000,
      "rowLimit": 10000
     },
     "inputWidgets": {},
     "nuid": "abf303af-b1ab-4105-9c59-ce46ceb19cb7",
     "showTitle": false,
     "tableResultSettingsMap": {},
     "title": ""
    }
   },
   "outputs": [],
   "source": [
    "from pyspark.sql.functions import explode, col, current_timestamp, coalesce\n"
   ]
  },
  {
   "cell_type": "code",
   "execution_count": 0,
   "metadata": {
    "application/vnd.databricks.v1+cell": {
     "cellMetadata": {
      "byteLimit": 2048000,
      "rowLimit": 10000
     },
     "inputWidgets": {},
     "nuid": "8d85d497-6447-404b-9946-3f98a6f9a77b",
     "showTitle": false,
     "tableResultSettingsMap": {},
     "title": ""
    }
   },
   "outputs": [],
   "source": [
    "dbutils.fs.ls(\"abfss://landing@acmemcd.dfs.core.windows.net\")"
   ]
  },
  {
   "cell_type": "code",
   "execution_count": 0,
   "metadata": {
    "application/vnd.databricks.v1+cell": {
     "cellMetadata": {
      "byteLimit": 2048000,
      "rowLimit": 10000
     },
     "inputWidgets": {},
     "nuid": "3606b789-5305-4105-9efd-2b6146dec64f",
     "showTitle": false,
     "tableResultSettingsMap": {},
     "title": ""
    }
   },
   "outputs": [],
   "source": [
    "crm_df = spark.read.format(\"json\").load(\"abfss://landing@acmemcd.dfs.core.windows.net/crm\")"
   ]
  },
  {
   "cell_type": "code",
   "execution_count": 0,
   "metadata": {
    "application/vnd.databricks.v1+cell": {
     "cellMetadata": {
      "byteLimit": 2048000,
      "rowLimit": 10000
     },
     "inputWidgets": {},
     "nuid": "f6743406-c1e4-4744-8a27-c99037951bb3",
     "showTitle": false,
     "tableResultSettingsMap": {
      "0": {
       "dataGridStateBlob": "{\"version\":1,\"tableState\":{\"columnPinning\":{\"left\":[\"#row_number#\"],\"right\":[]},\"columnSizing\":{\"contact\":1032,\"postal\":90,\"updated_at\":185},\"columnVisibility\":{}},\"settings\":{\"columns\":{}},\"syncTimestamp\":1761826000632}",
       "filterBlob": null,
       "queryPlanFiltersBlob": null,
       "tableResultIndex": 0
      }
     },
     "title": ""
    }
   },
   "outputs": [],
   "source": [
    "crm_df.printSchema()\n",
    "display(crm_df)"
   ]
  },
  {
   "cell_type": "code",
   "execution_count": 0,
   "metadata": {
    "application/vnd.databricks.v1+cell": {
     "cellMetadata": {
      "byteLimit": 2048000,
      "rowLimit": 10000
     },
     "inputWidgets": {},
     "nuid": "d0cbf503-e5f3-4f39-9679-4246eba1dad7",
     "showTitle": false,
     "tableResultSettingsMap": {
      "0": {
       "dataGridStateBlob": "{\"version\":1,\"tableState\":{\"columnPinning\":{\"left\":[\"#row_number#\"],\"right\":[]},\"columnSizing\":{},\"columnVisibility\":{}},\"settings\":{\"columns\":{}},\"syncTimestamp\":1761733189298}",
       "filterBlob": null,
       "queryPlanFiltersBlob": null,
       "tableResultIndex": 0
      }
     },
     "title": ""
    }
   },
   "outputs": [],
   "source": [
    "flat_df = crm_df.select(\n",
    "    col(\"account_id\").cast(\"int\"),\n",
    "    col(\"addr_line1\").cast(\"string\").alias(\"address\"),\n",
    "    col(\"city\").cast(\"string\"),\n",
    "    col(\"contact.contact_id\").cast(\"string\").alias(\"contact_id\"),\n",
    "    col(\"contact.email\").cast(\"string\").alias(\"email\"),\n",
    "    col(\"contact.first_name\").cast(\"string\").alias(\"first_name\"),\n",
    "    col(\"contact.last_name\").cast(\"string\").alias(\"last_name\"),\n",
    "    coalesce(col(\"contact.phone_primary\"),col(\"contact.primary_phone\")).cast(\"string\").alias(\"phone\"),\n",
    "    col(\"country_code\").cast(\"string\").,\n",
    "    col(\"postal\").cast(\"string\").alias(\"postal_code\"),\n",
    "    col(\"updated_at\").cast(\"timestamp\"),\n",
    "    col(\"dt\").cast(\"date\")\n",
    ").withColumn(\"ingestion_date\", current_timestamp())\n",
    "display(flat_df)\n"
   ]
  },
  {
   "cell_type": "code",
   "execution_count": 0,
   "metadata": {
    "application/vnd.databricks.v1+cell": {
     "cellMetadata": {},
     "inputWidgets": {},
     "nuid": "af42f64a-8e2e-4be3-90e9-ab8b041c894a",
     "showTitle": false,
     "tableResultSettingsMap": {},
     "title": ""
    }
   },
   "outputs": [],
   "source": []
  }
 ],
 "metadata": {
  "application/vnd.databricks.v1+notebook": {
   "computePreferences": null,
   "dashboards": [],
   "environmentMetadata": {
    "base_environment": "",
    "environment_version": "4"
   },
   "inputWidgetPreferences": null,
   "language": "python",
   "notebookMetadata": {
    "mostRecentlyExecutedCommandWithImplicitDF": {
     "commandId": 8909984657833065,
     "dataframes": [
      "_sqldf"
     ]
    },
    "pythonIndentUnit": 4
   },
   "notebookName": "1.crm_ingestion",
   "widgets": {}
  },
  "language_info": {
   "name": "python"
  }
 },
 "nbformat": 4,
 "nbformat_minor": 0
}
