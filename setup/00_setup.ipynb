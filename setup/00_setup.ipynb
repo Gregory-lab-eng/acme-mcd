{
 "cells": [
  {
   "cell_type": "markdown",
   "metadata": {
    "application/vnd.databricks.v1+cell": {
     "cellMetadata": {},
     "inputWidgets": {},
     "nuid": "fdc3f6bf-eec4-4314-aae9-f20ae5cbee0d",
     "showTitle": false,
     "tableResultSettingsMap": {},
     "title": ""
    }
   },
   "source": [
    "## 00_setup\n"
   ]
  },
  {
   "cell_type": "code",
   "execution_count": 0,
   "metadata": {
    "application/vnd.databricks.v1+cell": {
     "cellMetadata": {
      "byteLimit": 2048000,
      "rowLimit": 10000
     },
     "inputWidgets": {},
     "nuid": "d6adcd6c-03ec-40d0-afa6-6621ec539737",
     "showTitle": false,
     "tableResultSettingsMap": {},
     "title": ""
    }
   },
   "outputs": [],
   "source": [
    "import random, string\n",
    "import numpy as np\n",
    "from datetime import datetime, timedelta\n",
    "from pyspark.sql import functions as F, types as T"
   ]
  },
  {
   "cell_type": "code",
   "execution_count": 0,
   "metadata": {
    "application/vnd.databricks.v1+cell": {
     "cellMetadata": {
      "byteLimit": 2048000,
      "rowLimit": 10000
     },
     "inputWidgets": {},
     "nuid": "5c5601e8-5bc0-4709-bc96-6495cf331041",
     "showTitle": false,
     "tableResultSettingsMap": {},
     "title": ""
    }
   },
   "outputs": [],
   "source": [
    "spark.conf.set(\"spark.sql.session.timeZone\", \"UTC\")\n",
    "\n",
    "dbutils.widgets.text(\"catalog\", \"acme_dev\")\n",
    "dbutils.widgets.text(\"base_path\", \"abfss://landing@acmemcd.dfs.core.windows.net/\")  \n",
    "dbutils.widgets.text(\"start_date\", \"2025-01-01\")\n",
    "dbutils.widgets.text(\"days\", \"30\")\n",
    "dbutils.widgets.text(\"seed\", \"42\")\n",
    "\n",
    "CATALOG = dbutils.widgets.get(\"catalog\")\n",
    "BASE = dbutils.widgets.get(\"base_path\").rstrip(\"/\")\n",
    "START_DATE = dbutils.widgets.get(\"start_date\")\n",
    "DAYS = int(dbutils.widgets.get(\"days\"))\n",
    "SEED = int(dbutils.widgets.get(\"seed\"))"
   ]
  },
  {
   "cell_type": "code",
   "execution_count": 0,
   "metadata": {
    "application/vnd.databricks.v1+cell": {
     "cellMetadata": {
      "byteLimit": 2048000,
      "rowLimit": 10000
     },
     "inputWidgets": {},
     "nuid": "9294c5e0-9995-4395-9055-3b871818b2fe",
     "showTitle": false,
     "tableResultSettingsMap": {},
     "title": ""
    }
   },
   "outputs": [],
   "source": [
    "rng = random.Random(SEED)\n",
    "np.random.seed(SEED)\n",
    "\n",
    "# Helpers\n",
    "def rand_pick(options):\n",
    "    return options[rng.randrange(len(options))]\n",
    "\n",
    "def misspell(s: str) -> str:\n",
    "    if not s or len(s) < 3: return s\n",
    "    # 3 simple variants: swap, drop, replace\n",
    "    ops = [\"swap\", \"drop\", \"replace\"]\n",
    "    op = rand_pick(ops)\n",
    "    i = rng.randrange(1, len(s)-1)\n",
    "    if op == \"swap\":\n",
    "        s_list = list(s)\n",
    "        s_list[i-1], s_list[i] = s_list[i], s_list[i-1]\n",
    "        return \"\".join(s_list)\n",
    "    if op == \"drop\":\n",
    "        return s[:i] + s[i+1:]\n",
    "    # replace\n",
    "    return s[:i] + rand_pick(list(string.ascii_lowercase)) + s[i+1:]\n",
    "\n",
    "def jitter_tz(ts: datetime) -> datetime:\n",
    "    # simulate timezone drift (+/- hours) around DST\n",
    "    shift = rng.choice([-8,-7,-6,-5,-4,-3, 3,4,5])  # PST..EST..weird\n",
    "    return ts + timedelta(hours=shift)\n",
    "\n",
    "COUNTRIES = [\"US\",\"US\",\"US\",\"CA\",\"GB\",\"DE\",\"FR\",\"AU\",\"IN\",\"BR\",\"XX\"] # XX invalid\n",
    "REGIONS = [\"north\", \"SOUTH\", \"West\", \"EAST\", \"emEA\", \"apac\"]\n",
    "EMOJIS = [\"🙂\",\"🚀\",\"🔥\",\"💡\",\"😬\",\"🧪\",\"✨\",\"🤖\"]\n",
    "\n",
    "# Names (light list)\n",
    "FIRST = [\"alex\",\"casey\",\"jordan\",\"taylor\",\"morgan\",\"jamie\",\"riley\",\"nico\",\"sam\",\"chris\",\"lee\",\"devon\",\"avery\"]\n",
    "LAST  = [\"smith\",\"garcia\",\"patel\",\"nguyen\",\"johnson\",\"brown\",\"lee\",\"martin\",\"anderson\",\"williams\",\"jackson\",\"thompson\"]\n",
    "\n",
    "# Create base customers (10k+) used to derive cross-system data\n",
    "CUSTOMERS = 12000\n",
    "\n",
    "base_customers = (spark.range(1, CUSTOMERS+1)\n",
    "  .withColumn(\"account_id\", (F.col(\"id\") + F.lit(100000)).cast(\"string\"))\n",
    "  .withColumn(\"first_name\", F.element_at(F.array([F.lit(x) for x in FIRST]), (F.rand(SEED)*len(FIRST)).cast(\"int\")+1))\n",
    "  .withColumn(\"last_name\",  F.element_at(F.array([F.lit(x) for x in LAST ]),  (F.rand(SEED+1)*len(LAST )).cast(\"int\")+1))\n",
    "  .withColumn(\"email\", F.concat_ws(\".\", F.col(\"first_name\"), F.col(\"last_name\"), F.col(\"account_id\")).cast(\"string\"))\n",
    "  .withColumn(\"domain\", F.element_at(F.array(F.lit(\"@example.com\"),F.lit(\"@corp.com\"),F.lit(\"@work.io\")), (F.rand(SEED+2)*3).cast(\"int\")+1))\n",
    "  .withColumn(\"email\", F.concat_ws(\"\", F.col(\"email\"), F.col(\"domain\")))\n",
    "  .withColumn(\"phone\", F.concat_ws(\"\", F.lit(\"+1\"), F.lpad((F.col(\"id\")*7%999999999).cast(\"string\"), 10, \"0\")))\n",
    "  .withColumn(\"addr_line1\", F.concat_ws(\" \", F.lit(\"\"), F.col(\"id\"), F.lit(\"Main St\")))\n",
    "  .withColumn(\"city\", F.element_at(F.array(F.lit(\"Austin\"),F.lit(\"Seattle\"),F.lit(\"Toronto\"),F.lit(\"London\"),F.lit(\"Berlin\")), (F.rand(SEED+3)*5).cast(\"int\")+1))\n",
    "  .withColumn(\"postal\", F.lpad((F.col(\"id\")*13 % 99999).cast(\"string\"), 5, \"0\"))\n",
    "  .withColumn(\"country_code\", F.element_at(F.array([F.lit(x) for x in COUNTRIES]), (F.rand(SEED+4)*len(COUNTRIES)).cast(\"int\")+1))\n",
    "  .drop(\"id\")\n",
    ")\n",
    "\n",
    "base_customers.createOrReplaceTempView(\"base_customers\")\n",
    "print(f\"Base customers ready: {base_customers.count():,}\")\n"
   ]
  },
  {
   "cell_type": "markdown",
   "metadata": {
    "application/vnd.databricks.v1+cell": {
     "cellMetadata": {},
     "inputWidgets": {},
     "nuid": "7a9dbb08-a3de-478e-b0f5-27333721b245",
     "showTitle": false,
     "tableResultSettingsMap": {},
     "title": ""
    }
   },
   "source": [
    "### 10_crm"
   ]
  },
  {
   "cell_type": "code",
   "execution_count": 0,
   "metadata": {
    "application/vnd.databricks.v1+cell": {
     "cellMetadata": {
      "byteLimit": 2048000,
      "rowLimit": 10000
     },
     "inputWidgets": {},
     "nuid": "831d7d05-73ad-4435-9672-d1bd06cc1a77",
     "showTitle": false,
     "tableResultSettingsMap": {},
     "title": ""
    }
   },
   "outputs": [],
   "source": [
    "from datetime import date\n",
    "from pyspark.sql import functions as F\n",
    "from datetime import datetime"
   ]
  },
  {
   "cell_type": "code",
   "execution_count": 0,
   "metadata": {
    "application/vnd.databricks.v1+cell": {
     "cellMetadata": {
      "byteLimit": 2048000,
      "rowLimit": 10000
     },
     "inputWidgets": {},
     "nuid": "51e07ec9-c008-46a4-b805-751abb1e0ae2",
     "showTitle": false,
     "tableResultSettingsMap": {},
     "title": ""
    }
   },
   "outputs": [],
   "source": [
    "crm_root = f\"{BASE}/crm\" "
   ]
  },
  {
   "cell_type": "code",
   "execution_count": 0,
   "metadata": {
    "application/vnd.databricks.v1+cell": {
     "cellMetadata": {
      "byteLimit": 2048000,
      "rowLimit": 10000
     },
     "inputWidgets": {},
     "nuid": "3cdc94c8-1c46-474c-b751-84bd90555825",
     "showTitle": false,
     "tableResultSettingsMap": {},
     "title": ""
    }
   },
   "outputs": [],
   "source": [
    "# 1. Derive contacts (2 per account on avg), with some shared emails\n",
    "contacts_per_acct = 2\n",
    "crm_contacts = (spark.table(\"base_customers\")\n",
    "  .withColumn(\"contact_seq\", F.sequence(F.lit(1), F.lit(contacts_per_acct)))\n",
    "  .withColumn(\"contact_id\", F.explode(\"contact_seq\"))\n",
    "  .withColumn(\"contact_id\", F.concat_ws(\"-\", F.col(\"account_id\"), F.col(\"contact_id\")))\n",
    "  .drop(\"contact_seq\"))\n",
    "\n",
    "# 10% share the same email across contacts (forces dedupe/lineage logic)\n",
    "crm_contacts = (crm_contacts\n",
    "  .withColumn(\"email\", F.when(F.rand(SEED) < 0.10,\n",
    "                               F.concat_ws(\"\", F.col(\"first_name\"), F.lit(\".\"), F.col(\"last_name\"), F.lit(\"@shared.com\")))\n",
    "                      .otherwise(F.col(\"email\")))\n",
    ")\n",
    "\n",
    "# 2. Introduce misspellings in ~7% of names\n",
    "misspell_udf = F.udf(misspell, T.StringType())\n",
    "crm_contacts = (crm_contacts\n",
    "  .withColumn(\"first_name\", F.when(F.rand(SEED+5) < 0.07, misspell_udf(\"first_name\")).otherwise(\"first_name\"))\n",
    "  .withColumn(\"last_name\",  F.when(F.rand(SEED+6) < 0.07, misspell_udf(\"last_name\" )).otherwise(\"last_name\"))\n",
    ")\n",
    "\n",
    "# 3. Timestamps with timezone drift\n",
    "base_ts = datetime.strptime(START_DATE+\" 08:00:00\", \"%Y-%m-%d %H:%M:%S\")\n",
    "@F.udf(\"timestamp\")\n",
    "def drift_ts(_):\n",
    "    ts = base_ts + timedelta(minutes=rng.randrange(0, 60*24*DAYS))\n",
    "    return jitter_tz(ts)\n",
    "\n",
    "crm_contacts = crm_contacts.withColumn(\"updated_at\", drift_ts(F.lit(1)))\n",
    "\n",
    "# 4. Phone field rename occurs halfway through the period\n",
    "midpoint = datetime.strptime(START_DATE, \"%Y-%m-%d\") + timedelta(days=DAYS//2)\n",
    "@F.udf(\"string\")\n",
    "def maybe_null_phone(updated_at):\n",
    "    # 5% nulls to push quarantine; 10% malformed\n",
    "    if rng.random() < 0.05: return None\n",
    "    if rng.random() < 0.10: return \"+1-555-abc-\"+str(rng.randrange(1000,9999))\n",
    "    return \"+1\" + str(rng.randrange(2000000000, 9999999999))\n",
    "\n",
    "crm_contacts = crm_contacts.withColumn(\"primary_phone\", maybe_null_phone(\"updated_at\"))\n",
    "\n",
    "# Write daily partitions with late arrivals (previous day files in later folders)\n",
    "for d in range(DAYS):\n",
    "    day = (datetime.strptime(START_DATE, \"%Y-%m-%d\") + timedelta(days=d)).date()\n",
    "    day_path = f\"{crm_root}/dt={day}\"\n",
    "\n",
    "    # Late arrivals: 5% of records from the previous day drop today\n",
    "    todays = crm_contacts.where((F.hash(\"account_id\") % DAYS) == d)\n",
    "    if d > 0:\n",
    "        late = crm_contacts.where((F.hash(\"account_id\") % DAYS) == (d-1)).sample(0.05, seed=SEED)\n",
    "        todays = todays.unionByName(late)\n",
    "\n",
    "    # Before midpoint: \"primary_phone\"; after midpoint: rename to \"phone_primary\"\n",
    "    todays = todays.repartition(400)\n",
    "\n",
    "    phone_alias = \"primary_phone\" if datetime.combine(day, datetime.min.time()) < midpoint else \"phone_primary\"\n",
    "\n",
    "    out = todays.selectExpr(\n",
    "        \"account_id\",\n",
    "        f\"struct(contact_id, first_name, last_name, email, primary_phone as {phone_alias}) as contact\",\n",
    "        \"updated_at\",\n",
    "        \"country_code\",\n",
    "        \"addr_line1\",\n",
    "        \"city\",\n",
    "        \"postal\"\n",
    "    )\n",
    "\n",
    "\n",
    "    (out.coalesce(8)\n",
    "            .write.mode(\"overwrite\").json(day_path))\n",
    "\n",
    "print(\"CRM daily JSON written with rename and late arrivals.\")\n"
   ]
  },
  {
   "cell_type": "markdown",
   "metadata": {
    "application/vnd.databricks.v1+cell": {
     "cellMetadata": {},
     "inputWidgets": {},
     "nuid": "69292584-04d1-4612-996a-6d7b398c32e6",
     "showTitle": false,
     "tableResultSettingsMap": {},
     "title": ""
    }
   },
   "source": [
    "### 20_marketing"
   ]
  },
  {
   "cell_type": "code",
   "execution_count": 0,
   "metadata": {
    "application/vnd.databricks.v1+cell": {
     "cellMetadata": {
      "byteLimit": 2048000,
      "rowLimit": 10000
     },
     "inputWidgets": {},
     "nuid": "7bbd923e-fa45-4f02-89b4-533ec7892b96",
     "showTitle": false,
     "tableResultSettingsMap": {},
     "title": ""
    }
   },
   "outputs": [],
   "source": [
    "mkt_root = f\"{BASE}/marketing\"\n"
   ]
  },
  {
   "cell_type": "code",
   "execution_count": 0,
   "metadata": {
    "application/vnd.databricks.v1+cell": {
     "cellMetadata": {
      "byteLimit": 2048000,
      "rowLimit": 10000
     },
     "inputWidgets": {},
     "nuid": "532b29d9-a83c-44d3-996c-88fbc9de356c",
     "showTitle": false,
     "tableResultSettingsMap": {},
     "title": ""
    }
   },
   "outputs": [],
   "source": [
    "# Create monthly header maps for 3 months (extend if DAYS>90)\n",
    "HEADER_VARIANTS = [\n",
    "  {\"lead_id\":\"lead_id\",\"email\":\"email\",\"first_name\":\"first_name\",\"last_name\":\"last_name\",\"country\":\"country_code\",\"region\":\"region\",\"utm_campaign\":\"utm_campaign\",\"created_at\":\"created_at\"},\n",
    "  {\"lead_id\":\"lead_key\",\"email\":\"Email\",\"first_name\":\"FirstName\",\"last_name\":\"LastName\",\"country\":\"Country\",\"region\":\"Region\",\"utm_campaign\":\"utm\",\"created_at\":\"CreatedDate\"},\n",
    "  {\"lead_id\":\"lid\",\"email\":\"email_address\",\"first_name\":\"fname\",\"last_name\":\"lname\",\"country\":\"country\",\"region\":\"REGION\",\"utm_campaign\":\"utmCampaign\",\"created_at\":\"created\"}\n",
    "]\n",
    "\n",
    "# Derive leads from customers (some missing emails)\n",
    "leads = (spark.table(\"base_customers\")\n",
    "  .withColumn(\"lead_id\", F.concat_ws(\"-\", F.col(\"account_id\"), F.lit(\"L\")))\n",
    "  .withColumn(\"email\", F.when(F.rand(SEED) < 0.25, None).otherwise(F.col(\"email\")))\n",
    "  .withColumn(\"country\", F.col(\"country_code\"))\n",
    "  .withColumn(\"region\", F.element_at(F.array([F.lit(x) for x in REGIONS]), (F.rand(SEED+9)*len(REGIONS)).cast(\"int\")+1))\n",
    "  .withColumn(\"utm_campaign\", F.element_at(F.array(F.lit(\"spring_launch\"),F.lit(\"brand\"),F.lit(\"retarget\")), (F.rand(SEED+10)*3).cast(\"int\")+1))\n",
    "  .withColumn(\"created_at\", F.current_timestamp())\n",
    "  .select(\"lead_id\",\"email\",\"first_name\",\"last_name\",\"country\",\"region\",\"utm_campaign\",\"created_at\")\n",
    ")\n",
    "\n",
    "# Convert casing inconsistently\n",
    "leads = (leads\n",
    "  .withColumn(\"first_name\", F.when(F.rand(SEED) < 0.3, F.upper(\"first_name\")).otherwise(F.initcap(\"first_name\")))\n",
    "  .withColumn(\"last_name\",  F.when(F.rand(SEED) < 0.3, F.lower(\"last_name\")).otherwise(F.initcap(\"last_name\")))\n",
    ")\n",
    "\n",
    "# Write daily files, with header variant based on month index\n",
    "for d in range(DAYS):\n",
    "    day = (datetime.strptime(START_DATE, \"%Y-%m-%d\") + timedelta(days=d))\n",
    "    day_path = f\"{mkt_root}/dt={day.date()}\"\n",
    "    hv = HEADER_VARIANTS[(day.month-1) % len(HEADER_VARIANTS)]\n",
    "\n",
    "    out = leads.selectExpr(\n",
    "        f\"lead_id as `{hv['lead_id']}`\",\n",
    "        f\"email as `{hv['email']}`\",\n",
    "        f\"first_name as `{hv['first_name']}`\",\n",
    "        f\"last_name as `{hv['last_name']}`\",\n",
    "        f\"country as `{hv['country']}`\",\n",
    "        f\"region as `{hv['region']}`\",\n",
    "        f\"utm_campaign as `{hv['utm_campaign']}`\",\n",
    "        f\"cast(created_at as string) as `{hv['created_at']}`\"\n",
    "    )\n",
    "\n",
    "    (out.coalesce(4)\n",
    "       .write.mode(\"overwrite\")\n",
    "       .option(\"header\",\"true\")\n",
    "       .csv(day_path))\n",
    "\n",
    "print(\"Marketing CSV with monthly header drift written.\")\n"
   ]
  },
  {
   "cell_type": "markdown",
   "metadata": {
    "application/vnd.databricks.v1+cell": {
     "cellMetadata": {},
     "inputWidgets": {},
     "nuid": "7945c854-2541-458b-89bc-71a055fd3b66",
     "showTitle": false,
     "tableResultSettingsMap": {},
     "title": ""
    }
   },
   "source": [
    "## 30_billing"
   ]
  },
  {
   "cell_type": "code",
   "execution_count": 0,
   "metadata": {
    "application/vnd.databricks.v1+cell": {
     "cellMetadata": {
      "byteLimit": 2048000,
      "rowLimit": 10000
     },
     "inputWidgets": {},
     "nuid": "3f618ed4-307d-4b36-be94-26a203726c45",
     "showTitle": false,
     "tableResultSettingsMap": {},
     "title": ""
    }
   },
   "outputs": [],
   "source": [
    "bill_root = f\"{BASE}/billing\"\n"
   ]
  },
  {
   "cell_type": "code",
   "execution_count": 0,
   "metadata": {
    "application/vnd.databricks.v1+cell": {
     "cellMetadata": {
      "byteLimit": 2048000,
      "rowLimit": 10000
     },
     "inputWidgets": {},
     "nuid": "0c202e86-d029-429a-9470-34f55c79feaa",
     "showTitle": false,
     "tableResultSettingsMap": {},
     "title": ""
    }
   },
   "outputs": [],
   "source": [
    "invoices_per_cust = 5\n",
    "\n",
    "billing = (spark.table(\"base_customers\")\n",
    "  .withColumn(\"customer_key\", F.concat_ws(\"-\", F.col(\"account_id\"), F.lit(\"B\")))\n",
    "  .withColumn(\"invoice_seq\", F.sequence(F.lit(1), F.lit(invoices_per_cust)))\n",
    "  .withColumn(\"invoice_id\", F.explode(\"invoice_seq\"))\n",
    "  .drop(\"invoice_seq\")\n",
    "  .withColumn(\"invoice_id\", F.concat_ws(\"-\", F.col(\"customer_key\"), F.col(\"invoice_id\")))\n",
    "  .withColumn(\"amount\", (F.rand(SEED+11)*10000).cast(\"decimal(12,2)\"))\n",
    "  .withColumn(\"currency\", F.element_at(F.array(F.lit(\"USD\"),F.lit(\"USD\"),F.lit(\"EUR\"),F.lit(\"GBP\")), (F.rand(SEED+12)*4).cast(\"int\")+1))\n",
    "  .withColumn(\"status\", F.element_at(F.array(F.lit(\"OPEN\"),F.lit(\"PAID\"),F.lit(\"PAST_DUE\")), (F.rand(SEED+13)*3).cast(\"int\")+1))\n",
    "  .withColumn(\"invoice_date\", F.date_add(F.lit(START_DATE), (F.rand(SEED+14)*DAYS).cast(\"int\")))\n",
    "  .withColumn(\"addr_line1\", F.when(F.rand(SEED) < 0.2, F.upper(\"addr_line1\")).otherwise(F.lower(\"addr_line1\")))\n",
    "  .withColumn(\"city\", F.when(F.rand(SEED) < 0.2, F.upper(\"city\")).otherwise(F.initcap(\"city\")))\n",
    "  .withColumn(\"email\", F.when(F.rand(SEED) < 0.1, None).otherwise(F.col(\"email\")))\n",
    ")\n",
    "\n",
    "# Intentionally inject duplicates with different casing (1% duplicates)\n",
    "dupes = billing.sample(0.01, seed=SEED).withColumn(\"addr_line1\", F.upper(\"addr_line1\"))\n",
    "billing = billing.unionByName(dupes)\n",
    "\n",
    "# Partition by invoice_date to create many Parquet files\n",
    "(billing.repartition(64)\n",
    "  .write.mode(\"overwrite\")\n",
    "  .partitionBy(\"invoice_date\")\n",
    "  .parquet(bill_root))\n",
    "\n",
    "print(\"Billing Parquet written with higher volume and duplicates.\")\n"
   ]
  },
  {
   "cell_type": "markdown",
   "metadata": {
    "application/vnd.databricks.v1+cell": {
     "cellMetadata": {},
     "inputWidgets": {},
     "nuid": "defd6dd6-54dc-43aa-a849-e7d2f3e651b3",
     "showTitle": false,
     "tableResultSettingsMap": {},
     "title": ""
    }
   },
   "source": [
    "40_support"
   ]
  },
  {
   "cell_type": "code",
   "execution_count": 0,
   "metadata": {
    "application/vnd.databricks.v1+cell": {
     "cellMetadata": {
      "byteLimit": 2048000,
      "rowLimit": 10000
     },
     "inputWidgets": {},
     "nuid": "181e53a1-27dc-4e78-b140-332a645899a5",
     "showTitle": false,
     "tableResultSettingsMap": {},
     "title": ""
    }
   },
   "outputs": [],
   "source": [
    "import os\n",
    "sup_root = f\"{BASE}/support\"\n"
   ]
  },
  {
   "cell_type": "code",
   "execution_count": 0,
   "metadata": {
    "application/vnd.databricks.v1+cell": {
     "cellMetadata": {
      "byteLimit": 2048000,
      "rowLimit": 10000
     },
     "inputWidgets": {},
     "nuid": "78c4584b-7fc9-4722-9d6f-86e310bdb5a1",
     "showTitle": false,
     "tableResultSettingsMap": {},
     "title": ""
    }
   },
   "outputs": [],
   "source": [
    "import os\n",
    "sup_root = f\"{BASE}/support\"\n",
    "# Base requester emails (some nulls)\n",
    "req = (spark.table(\"base_customers\")\n",
    "  .withColumn(\"requester_email\", F.when(F.rand(SEED) < 0.15, None).otherwise(F.col(\"email\")))\n",
    "  .withColumn(\"priority\", F.element_at(F.array(F.lit(\"low\"),F.lit(\"normal\"),F.lit(\"high\")), (F.rand(SEED+15)*3).cast(\"int\")+1))\n",
    "  .withColumn(\"csat\", F.element_at(F.array(F.lit(\"Good\"),F.lit(\"Bad\"),F.lit(\"Mixed\"),F.lit(\"1\"),F.lit(\"5\")), (F.rand(SEED+16)*5).cast(\"int\")+1))\n",
    "  .withColumn(\"created_at\", F.current_timestamp())\n",
    "  .select(\"account_id\",\"requester_email\",\"priority\",\"csat\",\"created_at\"))\n",
    "\n",
    "# Create 1-3 tickets per requester\n",
    "req = req.withColumn(\"tseq\", F.sequence(F.lit(1), (F.rand(SEED+17)*3+1).cast(\"int\")))\n",
    "req = req.withColumn(\"ticket_id\", F.explode(\"tseq\")).drop(\"tseq\")\n",
    "req = req.withColumn(\"ticket_id\", F.concat_ws(\"-\", F.col(\"account_id\"), F.col(\"ticket_id\")))\n",
    "\n",
    "# Add text with emojis and occasional merge references\n",
    "@F.udf(\"string\")\n",
    "def ticket_text(account_id):\n",
    "    base = f\"Issue for acct {account_id}: \" + rand_pick([\"login failure\",\"invoice dispute\",\"feature request\",\"bug report\",\"data export\"])\n",
    "    if rng.random() < 0.5:\n",
    "        base += \" \" + rand_pick(EMOJIS)\n",
    "    return base\n",
    "\n",
    "@F.udf(\"string\")\n",
    "def maybe_merged(ticket_id):\n",
    "    # 8% of tickets reference a merge to a prior ticket\n",
    "    if rng.random() < 0.08:\n",
    "        return \"merged-into:\" + ticket_id.split(\"-\")[-1]  # pseudo link\n",
    "    return None\n",
    "\n",
    "sup = (req\n",
    "  .withColumn(\"text\", ticket_text(\"account_id\"))\n",
    "  .withColumn(\"merge_ref\", maybe_merged(\"ticket_id\"))\n",
    ")\n",
    "\n",
    "# Write daily JSONL files; alternate encodings between UTF-8 and UTF-16LE\n",
    "for d in range(DAYS):\n",
    "    day = (datetime.strptime(START_DATE, \"%Y-%m-%d\") + timedelta(days=d)).date()\n",
    "    day_dir = f\"{sup_root}/dt={day}\"\n",
    "    dbutils.fs.mkdirs(day_dir)\n",
    "\n",
    "    day_df = sup.where((F.hash(\"account_id\") % DAYS) == d).select(\n",
    "        \"ticket_id\",\"account_id\",\"requester_email\",\"priority\",\"csat\",\"created_at\",\"text\",\"merge_ref\"\n",
    "    )\n",
    "\n",
    "    # Collect to driver and write JSONL with chosen encoding (small per-day sample)\n",
    "    rows = [r.asDict(recursive=True) for r in day_df.limit(30000).collect()]  # cap to keep file sizes moderate\n",
    "    enc = \"utf-8\" if d % 2 == 0 else \"utf-16\"\n",
    "    local_path = f\"/tmp/support_{day}.jsonl\"\n",
    "    with open(local_path, \"w\", encoding=enc, newline=\"\\n\") as f:\n",
    "        for r in rows:\n",
    "            import json\n",
    "            f.write(json.dumps(r, ensure_ascii=False) + \"\\n\")\n",
    "\n",
    "    dbutils.fs.cp(f\"file:{local_path}\", f\"{day_dir}/support_{day}_{enc}.jsonl\")\n",
    "\n",
    "print(\"Support JSONL written with mixed encodings and merges.\")\n",
    "\n",
    "\n"
   ]
  },
  {
   "cell_type": "markdown",
   "metadata": {
    "application/vnd.databricks.v1+cell": {
     "cellMetadata": {},
     "inputWidgets": {},
     "nuid": "d8b9fcff-24dd-49b4-b40f-1fb09ce7e97a",
     "showTitle": false,
     "tableResultSettingsMap": {},
     "title": ""
    }
   },
   "source": [
    "### 50_checks"
   ]
  },
  {
   "cell_type": "code",
   "execution_count": 0,
   "metadata": {
    "application/vnd.databricks.v1+cell": {
     "cellMetadata": {
      "byteLimit": 2048000,
      "rowLimit": 10000
     },
     "inputWidgets": {},
     "nuid": "dd2748ca-087a-4139-be69-35e7f1b3e40a",
     "showTitle": false,
     "tableResultSettingsMap": {},
     "title": ""
    }
   },
   "outputs": [],
   "source": [
    "paths = [f\"{BASE}/crm\", f\"{BASE}/marketing\", f\"{BASE}/billing\", f\"{BASE}/support\"]\n"
   ]
  },
  {
   "cell_type": "code",
   "execution_count": 0,
   "metadata": {
    "application/vnd.databricks.v1+cell": {
     "cellMetadata": {
      "byteLimit": 2048000,
      "rowLimit": 10000
     },
     "inputWidgets": {},
     "nuid": "827ce59f-582f-433b-b11c-f9b6b55f65c0",
     "showTitle": false,
     "tableResultSettingsMap": {},
     "title": ""
    }
   },
   "outputs": [],
   "source": [
    "for p in paths:\n",
    "    print(\"\\n===\", p)\n",
    "    display(dbutils.fs.ls(p))\n"
   ]
  },
  {
   "cell_type": "code",
   "execution_count": 0,
   "metadata": {
    "application/vnd.databricks.v1+cell": {
     "cellMetadata": {
      "byteLimit": 2048000,
      "rowLimit": 10000
     },
     "inputWidgets": {},
     "nuid": "1505f051-95d9-43e6-be62-9e1df727c4d4",
     "showTitle": false,
     "tableResultSettingsMap": {},
     "title": ""
    }
   },
   "outputs": [],
   "source": [
    "from pyspark.sql import functions as F\n",
    "\n",
    "crm_ct = spark.read.json(f\"{BASE}/crm/*\").count()\n",
    "mkt_ct = spark.read.option(\"header\",\"true\").csv(f\"{BASE}/marketing/*\").count()\n",
    "bill_ct = spark.read.parquet(f\"{BASE}/billing/*\").count()\n",
    "# sup_ct = spark.read.json(f\"{BASE}/support/*/*\").count()\n",
    "\n",
    "print(f\"CRM rows: {crm_ct:,}\")\n",
    "print(f\"Marketing rows: {mkt_ct:,}\")\n",
    "print(f\"Billing rows: {bill_ct:,}\")\n",
    "# print(f\"Support rows: {sup_ct:,}\")\n"
   ]
  },
  {
   "cell_type": "code",
   "execution_count": 0,
   "metadata": {
    "application/vnd.databricks.v1+cell": {
     "cellMetadata": {},
     "inputWidgets": {},
     "nuid": "32937f04-8181-423b-97cd-f5b3e77edd17",
     "showTitle": false,
     "tableResultSettingsMap": {},
     "title": ""
    }
   },
   "outputs": [],
   "source": []
  }
 ],
 "metadata": {
  "application/vnd.databricks.v1+notebook": {
   "computePreferences": null,
   "dashboards": [],
   "environmentMetadata": {
    "base_environment": "",
    "environment_version": "4"
   },
   "inputWidgetPreferences": null,
   "language": "python",
   "notebookMetadata": {
    "pythonIndentUnit": 4
   },
   "notebookName": "00_setup",
   "widgets": {
    "base_path": {
     "currentValue": "abfss://landing@acmemcd.dfs.core.windows.net/",
     "nuid": "882dde02-fd99-49af-b0a1-3471e54d6f74",
     "typedWidgetInfo": {
      "autoCreated": false,
      "defaultValue": "abfss://landing@acmemcd.dfs.core.windows.net/",
      "label": null,
      "name": "base_path",
      "options": {
       "widgetDisplayType": "Text",
       "validationRegex": null
      },
      "parameterDataType": "String"
     },
     "widgetInfo": {
      "widgetType": "text",
      "defaultValue": "abfss://landing@acmemcd.dfs.core.windows.net/",
      "label": null,
      "name": "base_path",
      "options": {
       "widgetType": "text",
       "autoCreated": null,
       "validationRegex": null
      }
     }
    },
    "catalog": {
     "currentValue": "acme_dev",
     "nuid": "42b9847b-2915-4d1d-b5ff-567c80108935",
     "typedWidgetInfo": {
      "autoCreated": false,
      "defaultValue": "acme_dev",
      "label": null,
      "name": "catalog",
      "options": {
       "widgetDisplayType": "Text",
       "validationRegex": null
      },
      "parameterDataType": "String"
     },
     "widgetInfo": {
      "widgetType": "text",
      "defaultValue": "acme_dev",
      "label": null,
      "name": "catalog",
      "options": {
       "widgetType": "text",
       "autoCreated": null,
       "validationRegex": null
      }
     }
    },
    "days": {
     "currentValue": "30",
     "nuid": "c7addce8-6e2b-4688-8a3e-44eb48b53ce0",
     "typedWidgetInfo": {
      "autoCreated": false,
      "defaultValue": "30",
      "label": null,
      "name": "days",
      "options": {
       "widgetDisplayType": "Text",
       "validationRegex": null
      },
      "parameterDataType": "String"
     },
     "widgetInfo": {
      "widgetType": "text",
      "defaultValue": "30",
      "label": null,
      "name": "days",
      "options": {
       "widgetType": "text",
       "autoCreated": null,
       "validationRegex": null
      }
     }
    },
    "seed": {
     "currentValue": "42",
     "nuid": "0a6e2cc9-779d-4314-bcbb-90963da4b869",
     "typedWidgetInfo": {
      "autoCreated": false,
      "defaultValue": "42",
      "label": null,
      "name": "seed",
      "options": {
       "widgetDisplayType": "Text",
       "validationRegex": null
      },
      "parameterDataType": "String"
     },
     "widgetInfo": {
      "widgetType": "text",
      "defaultValue": "42",
      "label": null,
      "name": "seed",
      "options": {
       "widgetType": "text",
       "autoCreated": null,
       "validationRegex": null
      }
     }
    },
    "start_date": {
     "currentValue": "2025-10-28",
     "nuid": "0176ebdb-9432-4d18-be39-c1100cad8d1c",
     "typedWidgetInfo": {
      "autoCreated": false,
      "defaultValue": "2025-01-01",
      "label": null,
      "name": "start_date",
      "options": {
       "widgetDisplayType": "Text",
       "validationRegex": null
      },
      "parameterDataType": "String"
     },
     "widgetInfo": {
      "widgetType": "text",
      "defaultValue": "2025-01-01",
      "label": null,
      "name": "start_date",
      "options": {
       "widgetType": "text",
       "autoCreated": null,
       "validationRegex": null
      }
     }
    }
   }
  },
  "language_info": {
   "name": "python"
  }
 },
 "nbformat": 4,
 "nbformat_minor": 0
}
